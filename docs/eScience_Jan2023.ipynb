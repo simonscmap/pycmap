{
 "cells": [
  {
   "cell_type": "markdown",
   "metadata": {},
   "source": [
    "![](https://github.com/simonscmap/pycmap/blob/master/docs/figures/CMAP.png?raw=true)"
   ]
  },
  {
   "cell_type": "markdown",
   "metadata": {},
   "source": [
    "*Mohammad D. Ashkezari*\n",
    "\n",
    "eScience Institute, Jan 2023\n",
    "\n",
    "\n",
    "\n",
    "<br/><br/><br/>"
   ]
  },
  {
   "cell_type": "markdown",
   "metadata": {},
   "source": [
    "<a href=\"https://colab.research.google.com/github/simonscmap/Workshops/blob/master/eScience_Jan2023/eScience_Jan2023.ipynb\"><img align=\"left\" src=\"colab-badge.svg\" alt=\"Open in Colab\" title=\"Open and Execute in Google Colaboratory\"></a>\n"
   ]
  },
  {
   "cell_type": "markdown",
   "metadata": {},
   "source": [
    "<a class=\"anchor\" id=\"toc\"></a>\n",
    "\n",
    "## Table of Contents:\n",
    "* [Installation](#installation)\n",
    "* [**Data Retrieval (selected methods)**](#dataRetrieval)\n",
    "    * [API](#api) \n",
    "    * [Catalog](#catalog)\n",
    "    * [Search Catalog](#searchCatalog)\n",
    "    * [List of Cruises](#cruises)\n",
    "    * [Cruise Trajectory](#cruiseTrajectory)\n",
    "    * [Retrieve Dataset](#getDataset)\n",
    "    * [Subset by Space-Time](#spaceTime)\n",
    "    * [Colocalize](#matchCruise)   \n",
    "    * [List of Pre-Colocalized Datasets](#datasetsWithAncillary) \n",
    "    * [Retrieve Dataset With Pre-Colocalized Data](#getDatasetWithAncillary)\n",
    "    * [Dynamic Climatology](https://cmap.readthedocs.io/en/latest/user_guide/API_ref/pycmap_api/data_vizualization/pycmap_climatology.html#climatology)\n",
    "    * [Custom SQL Query](#query)\n",
    "    \n",
    "    \n",
    "\n",
    "* [**Data Visulization (selected methods)**](https://cmap.readthedocs.io/en/latest/user_guide/API_ref/pycmap_api/pycmap_data_vizualization.html)\n",
    "    * [Histogram](https://cmap.readthedocs.io/en/latest/user_guide/API_ref/pycmap_api/data_vizualization/pycmap_histogram.html#histogram)\n",
    "    * [Time Series](https://cmap.readthedocs.io/en/latest/user_guide/API_ref/pycmap_api/data_vizualization/pycmap_time_series.html#timeseries)\n",
    "    * [Regional Map, Contour Plot, 3D Surface Plot](https://cmap.readthedocs.io/en/latest/user_guide/API_ref/pycmap_api/data_vizualization/pycmap_rm_cp_3d.html#rmcp3d)\n",
    "    * [Section Map, Section Contour](https://cmap.readthedocs.io/en/latest/user_guide/API_ref/pycmap_api/data_vizualization/pycmap_section_map_contour.html#sectionmapcontour)\n",
    "    * [Depth Profile](https://cmap.readthedocs.io/en/latest/user_guide/API_ref/pycmap_api/data_vizualization/pycmap_depth_profile.html#depthprofile)\n",
    "    * [Cruise Track](https://cmap.readthedocs.io/en/latest/user_guide/API_ref/pycmap_api/data_vizualization/pycmap_cruise_track.html#cruisetrackplot)    \n",
    "    \n"
   ]
  },
  {
   "cell_type": "markdown",
   "metadata": {},
   "source": [
    "<br/><br/><br/><br/>\n",
    "## See Docomentation For More:"
   ]
  },
  {
   "cell_type": "code",
   "execution_count": null,
   "metadata": {},
   "outputs": [],
   "source": [
    "from IPython.display import IFrame\n",
    "IFrame(\"https://cmap.readthedocs.io/en/latest/user_guide/API_ref/api_ref.html\", width=1400, height=1000)"
   ]
  },
  {
   "cell_type": "markdown",
   "metadata": {},
   "source": [
    "<a class=\"anchor\" id=\"dataRetrieval\"></a>\n",
    "<br/><br/><br/><br/><br/><br/><br/><br/><br/><br/>\n",
    "<center>\n",
    "<h1> API: Data Retrieval </h1>\n",
    "</center>\n",
    "<br/><br/><br/><br/><br/><br/><br/><br/>"
   ]
  },
  {
   "cell_type": "markdown",
   "metadata": {},
   "source": [
    "<a class=\"anchor\" id=\"installation\"></a> \n",
    "<a href=\"#toc\" style=\"float: right;\">Table of Contents</a>\n",
    "## Installation\n",
    "pycmap can be installed using *pip*: \n",
    "<br />`pip install pycmap`\n",
    "\n",
    "In order to use pycmap, you will need to obtain an API key from SimonsCMAP website:\n",
    "<a href=\"https://simonscmap.com\">https://simonscmap.com</a>.\n",
    "\n",
    "### Note:\n",
    "You may install pycmap on cloud-based jupyter notebooks (such as [Colab](https://colab.research.google.com/)) by running the following command in a code-block: \n",
    "<br />`!pip install pycmap`"
   ]
  },
  {
   "cell_type": "code",
   "execution_count": null,
   "metadata": {},
   "outputs": [],
   "source": [
    "# !pip install pycmap -q    #uncomment to install pycmap on Colab\n",
    "import pycmap\n",
    "pycmap.__version__"
   ]
  },
  {
   "cell_type": "markdown",
   "metadata": {},
   "source": [
    "<a class=\"anchor\" id=\"api\"></a>\n",
    "<a href=\"#toc\" style=\"float: right;\">Table of Contents</a>\n",
    "## [*API( )*](https://cmap.readthedocs.io/en/latest/user_guide/API_ref/pycmap_api/pycmap_api.html#pycmapapi)\n",
    "To retrieve data, we need to create an instance of the system's API and pass the API key. It is not necessary to pass the API key every time you run pycmap, because the key will be stored locally. The API class has other optional parameters to adjust its behavior. All parameters can be updated persistently at any point in the code.\n",
    "\n",
    "Register at https://simonscmap.com and get and API key, if you haven't already."
   ]
  },
  {
   "cell_type": "code",
   "execution_count": null,
   "metadata": {},
   "outputs": [],
   "source": [
    "api = pycmap.API(token=\"YOUR_KEY\")"
   ]
  },
  {
   "cell_type": "markdown",
   "metadata": {},
   "source": [
    "<a class=\"anchor\" id=\"catalog\"></a>\n",
    "<a href=\"#toc\" style=\"float: right;\">Table of Contents</a>\n",
    "## [*get_catalog()*](https://cmap.readthedocs.io/en/latest/user_guide/API_ref/pycmap_api/data_retrieval/pycmap_catalog.html#getcatalog)\n",
    "\n",
    "Returns a dataframe containing the details of all variables at Simons CMAP database. \n",
    "<br />This method requires no input."
   ]
  },
  {
   "cell_type": "code",
   "execution_count": null,
   "metadata": {},
   "outputs": [],
   "source": [
    "api.get_catalog()"
   ]
  },
  {
   "cell_type": "markdown",
   "metadata": {},
   "source": [
    "<a class=\"anchor\" id=\"searchCatalog\"></a>\n",
    "<a href=\"#toc\" style=\"float: right;\">Table of Contents</a>\n",
    "## [*search_catalog(keywords)*](https://cmap.readthedocs.io/en/latest/user_guide/API_ref/pycmap_api/data_retrieval/pycmap_search_catalog.html#searchcatalog)\n",
    "\n",
    "\n",
    "Returns a dataframe containing a subset of Simons CMAP catalog of variables. \n",
    "\n",
    "All variables at Simons CMAP catalog are annotated with a collection of semantically related keywords. This method takes the passed keywords and returns all of the variables annotated with similar keywords. The passed keywords should be separated by blank space. The search result is not sensitive to the order of keywords and is not case sensitive. The passed keywords can provide any 'hint' associated with the target variables. Below are a few examples: \n",
    "\n",
    "* the exact variable name (e.g. NO3), or its linguistic term (Nitrate) \n",
    "* methodology (model, satellite ...), instrument (CTD, seaflow), or disciplines (physics, biology ...) \n",
    "* the cruise official name (e.g. KOK1606), or unofficial cruise name (Falkor) \n",
    "* the name of data producer (e.g Penny Chisholm) or institution name (MIT) \n",
    "\n",
    "<br />If you searched for a variable with semantically-related-keywords and did not get the correct results, please let us know. We can update the keywords at any point.\n"
   ]
  },
  {
   "cell_type": "code",
   "execution_count": null,
   "metadata": {},
   "outputs": [],
   "source": [
    "api.search_catalog(\"silicate in-situ\")"
   ]
  },
  {
   "cell_type": "markdown",
   "metadata": {},
   "source": [
    "<a class=\"anchor\" id=\"cruises\"></a>\n",
    "<a href=\"#toc\" style=\"float: right;\">Table of Contents</a>\n",
    "## [*cruises()*](https://cmap.readthedocs.io/en/latest/user_guide/API_ref/pycmap_api/data_retrieval/pycmap_list_cruises.html#list-cruises)\n",
    "\n",
    "Returns a dataframe containing the list of cruises registered at Simons CMAP."
   ]
  },
  {
   "cell_type": "code",
   "execution_count": null,
   "metadata": {},
   "outputs": [],
   "source": [
    "api.cruises()"
   ]
  },
  {
   "cell_type": "markdown",
   "metadata": {},
   "source": [
    "<a class=\"anchor\" id=\"cruiseTrajectory\"></a>\n",
    "<a href=\"#toc\" style=\"float: right;\">Table of Contents</a>\n",
    "## [*cruise_trajectory(cruiseName)*](https://cmap.readthedocs.io/en/latest/user_guide/API_ref/pycmap_api/data_retrieval/pycmap_cruise_trajectory.html#cruise-traj)\n",
    "\n",
    "Returns a dataframe containing the trajectory of the specified cruise."
   ]
  },
  {
   "cell_type": "markdown",
   "metadata": {},
   "source": [
    "> **Parameters:** \n",
    ">> **cruiseName: string**\n",
    ">>  <br />The official cruise name. If applicable, you may also use cruise “nickname” (‘Diel’, ‘Gradients_1’ …). A full list of cruise names can be retrieved using the `cruises()` method.\n",
    ">> <br />\n",
    "\n",
    "\n",
    ">**Returns:** \n",
    ">>  Pandas dataframe.\n"
   ]
  },
  {
   "cell_type": "code",
   "execution_count": null,
   "metadata": {},
   "outputs": [],
   "source": [
    "api.cruise_trajectory(\"KM1712\")"
   ]
  },
  {
   "cell_type": "code",
   "execution_count": null,
   "metadata": {},
   "outputs": [],
   "source": [
    "from pycmap.viz import plot_cruise_track\n",
    "plot_cruise_track([\"KM1712\"])"
   ]
  },
  {
   "cell_type": "markdown",
   "metadata": {},
   "source": [
    "<a class=\"anchor\" id=\"cruiseVariables\"></a>\n",
    "<a href=\"#toc\" style=\"float: right;\">Table of Contents</a>\n",
    "## [*cruise_variables(cruiseName)*](https://cmap.readthedocs.io/en/latest/user_guide/API_ref/pycmap_api/data_retrieval/pycmap_cruise_variables.html#cruisevars)\n",
    "\n",
    "Returns a dataframe containing all registered variables (at Simons CMAP) during the specified cruise.\n",
    "> **Parameters:** \n",
    ">> **cruiseName: string**\n",
    ">>  <br />The official cruise name. If applicable, you may also use cruise “nickname” (‘Diel’, ‘Gradients_1’ …). A full list of cruise names can be retrieved using the `cruises()` method.\n",
    ">> <br />\n",
    "\n",
    "\n",
    ">**Returns:** \n",
    ">>  Pandas dataframe."
   ]
  },
  {
   "cell_type": "markdown",
   "metadata": {},
   "source": [
    "### Example:\n",
    "Returns a list of measured variables during the KM1712 cruise."
   ]
  },
  {
   "cell_type": "code",
   "execution_count": null,
   "metadata": {},
   "outputs": [],
   "source": [
    "api.cruise_variables(\"KM1712\")"
   ]
  },
  {
   "cell_type": "markdown",
   "metadata": {},
   "source": [
    "<a class=\"anchor\" id=\"getDataset\"></a>\n",
    "<a href=\"#toc\" style=\"float: right;\">Table of Contents</a>\n",
    "## [*get_dataset(tableName)*](https://cmap.readthedocs.io/en/latest/user_guide/API_ref/pycmap_api/data_retrieval/pycmap_retrieve_dataset.html#retrieve-dataset)\n",
    "\n",
    "Returns the entire dataset. Note that this method does not return the dataset metadata. Use the Metadata method to get the dataset metadata.\n",
    "\n",
    "> **Parameters:** \n",
    ">> **tableName: string**\n",
    ">>  <br />Table name (each dataset is stored in a table). A full list of table names can be found in [catalog](https://simonscmap.com/catalog).\n",
    ">> <br />\n",
    "\n",
    "\n",
    ">**Returns:** \n",
    ">>  Pandas dataframe.\n",
    "\n"
   ]
  },
  {
   "cell_type": "code",
   "execution_count": null,
   "metadata": {},
   "outputs": [],
   "source": [
    "api.get_dataset(\"tblAMT13_Chisholm\")"
   ]
  },
  {
   "cell_type": "markdown",
   "metadata": {},
   "source": [
    "<a class=\"anchor\" id=\"spaceTime\"></a>\n",
    "<a href=\"#toc\" style=\"float: right;\">Table of Contents</a>\n",
    "## [*space_time(table, variable, dt1, dt2, lat1, lat2, lon1, lon2, depth1, depth2)*](https://cmap.readthedocs.io/en/latest/user_guide/API_ref/pycmap_api/data_retrieval/pycmap_subset_ST.html#subset-st)\n",
    "\n",
    "Returns a subset of data according to the specified space-time constraints (dt1, dt2, lat1, lat2, lon1, lon2, depth1, depth2).\n",
    "<br />The results are ordered by time, lat, lon, and depth (if exists), respectively."
   ]
  },
  {
   "cell_type": "markdown",
   "metadata": {},
   "source": [
    "> **Parameters:** \n",
    ">> **table: string**\n",
    ">>  <br />Table name (each dataset is stored in a table). A full list of table names can be found in [catalog](https://simonscmap.com/catalog).\n",
    ">> <br />\n",
    ">> <br />**variable: string**\n",
    ">>  <br />Variable short name which directly corresponds to a field name in the table. A subset of this variable is returned by this method according to the spatio-temporal cut parameters (below). Pass **'\\*'** wild card to retrieve all fields in a table. A full list of variable short names can be found in [catalog](https://simonscmap.com/catalog).\n",
    ">> <br />\n",
    ">> <br />**dt1: string**\n",
    ">>  <br />Start date or datetime. This parameter sets the lower bound of the temporal cut. <br />Example values: '2016-05-25' or '2017-12-10 17:25:00'\n",
    ">> <br />\n",
    ">> <br />**dt2: string**\n",
    ">>  <br />End date or datetime. This parameter sets the upper bound of the temporal cut. \n",
    ">> <br />\n",
    ">> <br />**lat1: float**\n",
    ">>  <br />Start latitude [degree N]. This parameter sets the lower bound of the meridional cut. Note latitude ranges from -90&deg; to 90&deg;.\n",
    ">> <br />\n",
    ">> <br />**lat2: float**\n",
    ">>  <br />End latitude [degree N]. This parameter sets the upper bound of the meridional cut. Note latitude ranges from -90&deg; to 90&deg;.\n",
    ">> <br />\n",
    ">> <br />**lon1: float**\n",
    ">>  <br />Start longitude [degree E]. This parameter sets the lower bound of the zonal cut. Note longitue ranges from -180&deg; to 180&deg;.\n",
    ">> <br />\n",
    ">> <br />**lon2: float**\n",
    ">>  <br />End longitude [degree E]. This parameter sets the upper bound of the zonal cut. Note longitue ranges from -180&deg; to 180&deg;.\n",
    ">> <br />\n",
    ">> <br />**depth1: float**\n",
    ">>  <br />Start depth [m]. This parameter sets the lower bound of the vertical cut. Note depth is a positive number (it is 0 at surface and grows towards ocean floor).\n",
    ">> <br />\n",
    ">> <br />**depth2: float**\n",
    ">>  <br />End depth [m]. This parameter sets the upper bound of the vertical cut. Note depth is a positive number (it is 0 at surface and grows towards ocean floor).\n",
    "\n",
    "\n",
    ">**Returns:** \n",
    ">>  Pandas dataframe.\n"
   ]
  },
  {
   "cell_type": "markdown",
   "metadata": {},
   "source": [
    "### Example:\n",
    "This example retrieves a subset of in-situ salinity measurements by [Argo floats](https://simonscmap.com/catalog/datasets/ARGO_Core)."
   ]
  },
  {
   "cell_type": "code",
   "execution_count": null,
   "metadata": {},
   "outputs": [],
   "source": [
    "api.space_time(\n",
    "              table=\"tblArgoCore_REP\", \n",
    "              variable=\"PSAL\", \n",
    "              dt1=\"2022-05-01\", \n",
    "              dt2=\"2022-05-30\", \n",
    "              lat1=28, \n",
    "              lat2=38, \n",
    "              lon1=-71, \n",
    "              lon2=-50, \n",
    "              depth1=0, \n",
    "              depth2=100\n",
    "              ) "
   ]
  },
  {
   "cell_type": "markdown",
   "metadata": {},
   "source": [
    "<a class=\"anchor\" id=\"matchCruise\"></a>\n",
    "<a href=\"#toc\" style=\"float: right;\">Table of Contents</a>\n",
    "\n",
    "## [*along_track(cruise, targetTables, targetVars, depth1, depth2, temporalTolerance, latTolerance, lonTolerance, depthTolerance)*](https://cmap.readthedocs.io/en/latest/user_guide/API_ref/pycmap_api/pycmap_match_cruise_track_datasets.html#matchcruise)\n",
    "\n",
    "This method colocalizes a cruise trajectory with the specified target variables. The matching results rely on the tolerance parameters because these parameters set the matching boundaries between the cruise trajectory and target datasets. Please note that the number of matching entries for each target variable might vary depending on the temporal and spatial resolutions of the target variable. In principle, if the cruise trajectory is fully covered by the target variable's spatio-temporal range, there should always be matching results if the tolerance parameters are larger than half of their corresponding spatial/temporal resolutions. Please explore the [catalog](https://simonscmap.com/catalog) to find appropriate target variables to colocalize with the desired cruise. \n",
    "\n",
    "<br />This method returns a dataframe containing the cruise trajectory joined with the target variable(s).\n",
    "\n"
   ]
  },
  {
   "cell_type": "markdown",
   "metadata": {},
   "source": [
    "> **Parameters:** \n",
    ">> **cruise: string**\n",
    ">>  <br />The official cruise name. If applicable, you may also use cruise \"nickname\" ('Diel', 'Gradients_1' ...). <br />A full list of cruise names can be retrieved using cruise method.\n",
    ">> <br />\n",
    ">> <br />**targetTables: list of string**\n",
    ">>  <br />Table names of the target datasets to be matched with the cruise trajectory. Notice cruise trajectory can be matched with multiple target datasets. A full list of table names can be found in [catalog](https://simonscmap.com/catalog).\n",
    ">> <br />\n",
    ">> <br />**targetVars: list of string**\n",
    ">>  <br />Variable short names to be matched with the cruise trajectory. A full list of variable short names can be found in [catalog](https://simonscmap.com/catalog).\n",
    ">> <br />\n",
    ">> <br />**depth1: float**\n",
    ">>  <br />Start depth [m]. This parameter sets the lower bound of the depth cut on the traget datasets. 'depth1' and 'depth2' allow matching a cruise trajectory (which is at the surface, hopefully!) with traget varaiables at lower depth. Note depth is a positive number (depth is 0 at surface and grows towards ocean floor).\n",
    ">> <br />\n",
    ">> <br />**depth2: float**\n",
    ">>  <br />End depth [m]. This parameter sets the upper bound of the depth cut on the traget datasets. Note depth is a positive number (depth is 0 at surface and grows towards ocean floor).\n",
    ">> <br />\n",
    ">> <br />**temporalTolerance: list of int**\n",
    ">> <br />Temporal tolerance values between the cruise trajectory and target datasets. The size and order of values in this list should match those of targetTables. If only a single integer value is given, that would be applied to all target datasets. This parameter is in day units except when the target variable represents monthly climatology data in which case it is in month units. Notice fractional values are not supported in the current version.\n",
    ">> <br />\n",
    ">> <br />**latTolerance: list of float or int**\n",
    ">> <br />Spatial tolerance values in meridional direction [deg] between the cruise trajectory and target datasets. The size and order of values in this list should match those of targetTables. If only a single float value is given, that would be applied to all target datasets. A \"safe\" value for this parameter can be slightly larger than the half of the traget variable's spatial resolution.\n",
    ">> <br />\n",
    ">> <br />**lonTolerance: list of float or int**\n",
    ">> <br />Spatial tolerance values in zonal direction [deg] between the cruise trajectory and target datasets. The size and order of values in this list should match those of targetTables. If only a single float value is given, that would be applied to all target datasets. A \"safe\" value for this parameter can be slightly larger than the half of the traget variable's spatial resolution.\n",
    ">> <br />\n",
    ">> <br />**depthTolerance: list of float or int**\n",
    ">> <br />Spatial tolerance values in vertical direction [m] between the cruise trajectory and target datasets. The size and order of values in this list should match those of targetTables. If only a single float value is given, that would be applied to all target datasets. \n",
    "\n",
    ">**Returns:** \n",
    ">>  Pandas dataframe."
   ]
  },
  {
   "cell_type": "markdown",
   "metadata": {},
   "source": [
    "### Example:\n",
    "Colocalizes the Gradients_1 cruise with prochloro_abundance and prokaryote_c01_darwin_clim variables from the Seaflow and Darwin (climatology) Data sets, respectively."
   ]
  },
  {
   "cell_type": "code",
   "execution_count": null,
   "metadata": {},
   "outputs": [],
   "source": [
    "%matplotlib inline\n",
    "import matplotlib.pyplot as plt\n",
    "import pycmap\n",
    "\n",
    "api = pycmap.API()\n",
    "df = api.along_track(\n",
    "                    cruise='gradients_3', \n",
    "                    targetTables=['tblSeaFlow_v1_5', 'tblDarwin_Nutrient_Climatology'],\n",
    "                    targetVars=['abundance_prochloro', 'PO4_darwin_clim'],\n",
    "                    depth1=0, \n",
    "                    depth2=5, \n",
    "                    temporalTolerance=[0, 0],\n",
    "                    latTolerance=[0.01, 0.25],\n",
    "                    lonTolerance=[0.01, 0.25],\n",
    "                    depthTolerance=[5, 5]\n",
    "                    )\n",
    "\n",
    "\n",
    "\n",
    "\n",
    "################# Simple Plot #################\n",
    "fig, ax1 = plt.subplots()\n",
    "ax2 = ax1.twinx()\n",
    "c1, c2 = 'firebrick', 'slateblue'\n",
    "t1, t2 = 'tblSeaFlow_v1_5', 'tblDarwin_Nutrient_Climatology'\n",
    "v1, v2 = 'abundance_prochloro', 'PO4_darwin_clim'\n",
    "ax1.plot(df['lat'], df[v1], 'o', color=c1, markeredgewidth=0, label='SeaFlow', alpha=0.2)\n",
    "ax1.tick_params(axis='y', labelcolor='r')\n",
    "ax1.set_ylabel(v1 + api.get_unit(t1, v1), color='r')\n",
    "ax2.plot(df['lat'], df[v2], 'o', color=c2, markeredgewidth=0, label='Darwin', alpha=0.2)\n",
    "ax2.tick_params(axis='y', labelcolor='b')\n",
    "ax2.set_ylabel(v2 + api.get_unit(t2, v2), color='b')\n",
    "ax1.set_xlabel('Latitude')\n",
    "fig.tight_layout()"
   ]
  },
  {
   "cell_type": "markdown",
   "metadata": {},
   "source": [
    "api.get_dataset(\"tblAMT13_Chisholm\")<a class=\"anchor\" id=\"sample\"></a>\n",
    "<a href=\"#toc\" style=\"float: right;\">Table of Contents</a>\n",
    "## Custom Colocalization:\n",
    "<code>Sample(source, targets, replaceWithMonthlyClimatolog)<code/>\n",
    "\n",
    "<br />Samples the targest datasets using the time-location of the source dataset\n",
    "<br />Returns a dataframe containing the original source data and the joined colocalized target variables.\n",
    "<br />\n",
    "\n",
    "\n",
    "\n",
    "> **Parameters:** \n",
    ">> **source: dataframe**\n",
    ">>  <br />A dataframe containing the source datasets (must have time-location columns).\n",
    ">> <br />\n",
    ">> <br />**targets: dict**\n",
    ">>  <br />A dcitionary containing the target table/variables and tolerance parameters. The items in `tolerances` list are: temporal tolerance [days], meridional tolerance [deg], \n",
    ">>    zonal tolerance [deg], and vertical tolerance [m], repectively.\n",
    ">>    Below is an example for `targets` parameter:<br />\n",
    ">>    <br />targets = {\n",
    ">>    <br />        \"tblSST_AVHRR_OI_NRT\": {\n",
    ">>    <br />                                \"variables\": [\"sst\"],\n",
    ">>    <br />                                \"tolerances\": [1, 0.25, 0.25, 5]\n",
    ">>    <br />                                },\n",
    ">>    <br />        \"tblAltimetry_REP\": {\n",
    ">>    <br />                                \"variables\": [\"sla\", \"adt\", \"ugosa\", \"vgosa\"],\n",
    ">>    <br />                                \"tolerances\": [1, 0.25, 0.25, 5]\n",
    ">>    <br />                               }\n",
    ">>    <br />        }\n",
    ">> <br />\n",
    ">> <br />**replaceWithMonthlyClimatolog: boolean**\n",
    ">>  <br />If `True`, monthly climatology of the target variables is colocalized when the target dataset's temporal range does not cover the source data. If `False`, only contemporaneous target data are colocalized. \n",
    ">> <br />\n",
    "\n",
    ">**Returns:** \n",
    ">>  Pandas dataframe."
   ]
  },
  {
   "cell_type": "code",
   "execution_count": null,
   "metadata": {},
   "outputs": [],
   "source": [
    "targets = {\n",
    "            \"tblSST_AVHRR_OI_NRT\": {\n",
    "                                    \"variables\": [\"sst\"],\n",
    "                                    \"tolerances\": [0, 0.25, 0.25, 0]\n",
    "                                    },\n",
    "    \n",
    "            }\n",
    "\n",
    "\n",
    "pycmap.Sample(\n",
    "              source=api.get_dataset(\"tblAMT13_Chisholm\"), \n",
    "              targets=targets, \n",
    "              replaceWithMonthlyClimatolog=True\n",
    "             )"
   ]
  },
  {
   "cell_type": "markdown",
   "metadata": {},
   "source": [
    "<a class=\"anchor\" id=\"query\"></a>\n",
    "<a href=\"#toc\" style=\"float: right;\">Table of Contents</a>\n",
    "## [*query(sql)*](https://cmap.readthedocs.io/en/latest/user_guide/API_ref/pycmap_api/data_retrieval/pycmap_query.html#query)\n",
    "<br />Simons CMAP datasets are hosted in a SQL database and pycmap package provides the user with a number of pre-developed methods to extract and retrieve subsets of the data. The rest of this documentation is dedicated to explore and explain these methods. In addition to the pre-developed methods, we intend to leave the database open to custom scan queries for interested users. This method takes a custom SQL query statement and returns the results in form of a Pandas dataframe. The full list of table names and variable names (fields) can be obtained using the [get_catalog()](https://cmap.readthedocs.io/en/latest/user_guide/API_ref/pycmap_api/data_retrieval/pycmap_catalog.html#getcatalog) method. In fact, one may use this very method to retrieve the table and field names: `query('EXEC uspCatalog')`. A Dataset is stored in a table and each table field represents a variable. All data tables have the following fields:\n",
    "\n",
    "* [time] [date or datetime] NOT NULL,\n",
    "* [lat] [float] NOT NULL,\n",
    "* [lon] [float] NOT NULL,\n",
    "* [depth] [float] NOT NULL,\n",
    "\n",
    "### Note:\n",
    "Tables which represent a climatological dataset, such as 'tblDarwin_Nutrient_Climatology', will not have a 'time' field. Also, if a table represents a surface dataset, such as satellite products, there would be no 'depth' field. 'depth' is a positive number in meters unit; it is zero at the surface growing towards the ocean's floor. 'lat' and 'lon' are in degrees units, ranging from -90&deg; to 90&deg; and -180&deg; to 180&deg;, respectively.\n",
    "\n",
    "<br />Please keep in mind that some of the datasets are massive in size (10s of TB), avoid queries without WHERE clause (`SELECT * FROM TABLENAME`). Always try to add some constraints on time, lat, lon, and depth fields (see the basic examples below). \n",
    "\n",
    "<br/>Moreover, the database hosts a wide range of predefined stored procedures and functions to streamline nearly all CMAP data services. For instance retrieving the catalog information is achieved using a single call of this procedure: *uspCatalog*. These predefined procedures can be called using the pycmap package (see example below). Alternatively, one may use any SQL client to execute these procedures to retrieve and visualize data (examples: [Azure Data Studio](https://docs.microsoft.com/en-us/sql/azure-data-studio/download?view=sql-server-ver15), or [Plotly Falcon](https://plot.ly/free-sql-client-download/)). Using the predefined procedures all CMAP data services are centralized at the database layer which dramatically facilitates the process of developing apps with different programming languages (pycmap, web app, cmap4r, ...). Please note that you can improve the current procedures or add new procedures by contributing at the [CMAP database repository](https://github.com/simonscmap/DB). \n",
    "Below is a selected list of stored procedures and functions, their arguments will be described in more details subsequently:\n",
    "\n",
    "\n",
    "\n",
    "* uspCatalog\n",
    "* uspSpaceTime\n",
    "* uspTimeSeries\n",
    "* uspDepthProfile\n",
    "* uspSectionMap\n",
    "* uspCruises\n",
    "* uspCruiseByName\n",
    "* uspCruiseBounds\n",
    "* uspWeekly\n",
    "* uspMonthly\n",
    "* uspQuarterly\n",
    "* uspAnnual\n",
    "* uspMatch\n",
    "* udfDatasetReferences\n",
    "* udfMetaData_NoRef\n",
    "\n",
    "\n",
    "\n",
    "\n",
    "\n",
    "<br />Happy SQL Injection!\n",
    "<br />\n",
    "<br />\n",
    "<br />"
   ]
  },
  {
   "cell_type": "markdown",
   "metadata": {},
   "source": [
    "### Example:\n",
    "A sample stored procedure returning the list of all cruises hosted by Simons CMAP."
   ]
  },
  {
   "cell_type": "code",
   "execution_count": null,
   "metadata": {},
   "outputs": [],
   "source": [
    "api.query('EXEC uspCruises')"
   ]
  },
  {
   "cell_type": "markdown",
   "metadata": {},
   "source": [
    "### Example:\n",
    "A sample query returning the timeseries of sea surface temperature (sst)."
   ]
  },
  {
   "cell_type": "code",
   "execution_count": null,
   "metadata": {},
   "outputs": [],
   "source": [
    "api.query(\n",
    "         '''\n",
    "         SELECT [time], AVG(lat) AS lat, AVG(lon) AS lon, AVG(sst) AS sst FROM tblsst_AVHRR_OI_NRT\n",
    "         WHERE\n",
    "         [time] BETWEEN '2016-06-01' AND '2016-10-01' AND\n",
    "         lat BETWEEN 23 AND 24 AND\n",
    "         lon BETWEEN -160 AND -158\n",
    "         GROUP BY [time]\n",
    "         ORDER BY [time]\n",
    "         '''\n",
    "         )"
   ]
  },
  {
   "cell_type": "code",
   "execution_count": null,
   "metadata": {},
   "outputs": [],
   "source": []
  }
 ],
 "metadata": {
  "kernelspec": {
   "display_name": "Python 3",
   "language": "python",
   "name": "python3"
  },
  "language_info": {
   "codemirror_mode": {
    "name": "ipython",
    "version": 3
   },
   "file_extension": ".py",
   "mimetype": "text/x-python",
   "name": "python",
   "nbconvert_exporter": "python",
   "pygments_lexer": "ipython3",
   "version": "3.8.3"
  }
 },
 "nbformat": 4,
 "nbformat_minor": 4
}
