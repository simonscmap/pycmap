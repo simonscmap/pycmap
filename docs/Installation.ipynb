{
 "cells": [
  {
   "cell_type": "markdown",
   "metadata": {},
   "source": [
    "<!--NAVIGATION-->\n",
    "< [Preface](00.00-Preface.ipynb) | [Index](Index.ipynb) | [API: Data Retrieval](API.ipynb) >\n",
    "\n",
    "<a href=\"https://colab.research.google.com/github/simonscmap/pycmap/blob/master/docs/Installation.ipynb\"><img align=\"left\" src=\"https://colab.research.google.com/assets/colab-badge.svg\" alt=\"Open in Colab\" title=\"Open and Execute in Google Colaboratory\"></a>"
   ]
  },
  {
   "cell_type": "markdown",
   "metadata": {},
   "source": [
    "## Installation\n",
    "\n",
    "pycmap can be installed using *pip*: \n",
    "<br />`pip install pycmap`\n",
    "\n",
    "In order to use pycmap, you will need to obtain an API key from SimonsCMAP website:\n",
    "<a href=\"https://simonscmap.com\">https://simonscmap.com</a>.\n",
    "\n",
    "### Note:\n",
    "You may install pycmap on cloud-based jupyter notebooks (such as [Binder](https://mybinder.org/), or [Colab](https://colab.research.google.com/)) by running the following command in a code-block: \n",
    "<br />`!pip install pycmap`"
   ]
  },
  {
   "cell_type": "code",
   "execution_count": null,
   "metadata": {},
   "outputs": [],
   "source": [
    "#!pip install pycmap     #uncomment to install pycmap on Colab\n",
    "\n",
    "import pycmap\n",
    "\n",
    "pycmap.__version__"
   ]
  }
 ],
 "metadata": {
  "kernelspec": {
   "display_name": "Python 3",
   "language": "python",
   "name": "python3"
  },
  "language_info": {
   "codemirror_mode": {
    "name": "ipython",
    "version": 3
   },
   "file_extension": ".py",
   "mimetype": "text/x-python",
   "name": "python",
   "nbconvert_exporter": "python",
   "pygments_lexer": "ipython3",
   "version": "3.8.3"
  }
 },
 "nbformat": 4,
 "nbformat_minor": 4
}
