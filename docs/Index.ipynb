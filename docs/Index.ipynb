{
 "cells": [
  {
   "cell_type": "markdown",
   "metadata": {},
   "source": [
    "![Book Cover](figures/CMAP.png)\n",
    "*Mohammad Dehghani Ashkezari <mdehghan@uw.edu>* \n",
    "\n",
    "*Raphael Hagen*\n",
    "\n",
    "*Mike Denholtz, and*\n",
    "\n",
    "*Ginger Armbrust*"
   ]
  },
  {
   "cell_type": "markdown",
   "metadata": {},
   "source": [
    "Simons CMAP is an open source data service to retrieve, visualize, and analyze oceanic datasets such as in-situ observations, multi-decade global satellite remote sensing, and model outputs. Pycmap is the python package of Simons CMAP project providing a simple and unified interface to the hosted datasets at Simons CMAP database. It enables the scientists and general public to dive into the vast, and often under underutilized, ocean datasets and retrieve customized subsets of these massive datasets without going through the time-consuming process of data collection and preparation.\n",
    "\n",
    "## Documentation\n",
    "See the *table of contents* below for pycmap documentations. \n",
    "<br />The docs are written in jupyter notebook format and each notebook contains one or more example codes. Please download the `/docs` directory and run the example codes locally. Alternatively, you may run the examples on google cloud using the *Colab badge* which appears at the top of each page: \n",
    "<br /><img align=\"left\" src=\"https://colab.research.google.com/assets/colab-badge.svg\" alt=\"Open in Colab\" title=\"Open and Execute in Google Colaboratory\">\n",
    "\n",
    "\n",
    "<br /><br />More detailed system documentations can be found at [https://cmap.readthedocs.io/en/latest/](https://cmap.readthedocs.io/en/latest/).\n",
    "\n",
    "## Website\n",
    "Simons CMAP website is under active development at the moment: [https://simonscmap.com](https://simonscmap.com)\n",
    "\n",
    "**<br />This project is supported by [Simons Foundation](https://www.simonsfoundation.org/).**"
   ]
  },
  {
   "cell_type": "markdown",
   "metadata": {},
   "source": [
    "## Table of Contents\n",
    "\n",
    "\n",
    "### [Installation](Installation.ipynb)\n",
    "\n",
    "### [1. Data Retrieval (API)](API.ipynb)\n",
    "- [Query](Query.ipynb)\n",
    "- [Catalog](Catalog.ipynb)\n",
    "- [Search Catalog](SearchCatalog.ipynb)\n",
    "- [Datasets](Datasets.ipynb)\n",
    "- [Dataset Metadata](DatasetMetaData.ipynb)\n",
    "- [Variable Metadata](MetaData.ipynb)\n",
    "- [Dataset Columns](Columns.ipynb)\n",
    "- [Dataset Head](Head.ipynb)\n",
    "- [Variable Long Name](LongName.ipynb)\n",
    "- [Variable Unit](Unit.ipynb)\n",
    "- [Variable Resolution](Resolution.ipynb)\n",
    "- [Variable Coverage](Coverage.ipynb)\n",
    "- [Variable Stat](Stat.ipynb)\n",
    "- [If Column Exists](HasField.ipynb)\n",
    "- [Is Gridded Product](Grid.ipynb)\n",
    "- [Is Climatology Product](IsClimatology.ipynb)\n",
    "- [List of Cruises](Cruises.ipynb)\n",
    "- [Cruise Details by Name](CruiseByName.ipynb)\n",
    "- [Cruise Spatio-Temporal Bounds](CruiseBounds.ipynb)\n",
    "- [Cruise Trajectory](CruiseTrajectory.ipynb)\n",
    "- [Cruise Variables](CruiseVariables.ipynb)\n",
    "- [Retrieve Dataset](RetrieveDataset.ipynb)\n",
    "- [Data Subset: Generic Space-Time Cut](SpaceTime.ipynb)\n",
    "- [Data Subset: TimeSeries](TimeSeries.ipynb)\n",
    "- [Data Subset: Depth Profile](DepthProfile.ipynb)\n",
    "- [Compute Climatology](Climatology.ipynb)\n",
    "- [Match (colocalize) Datasets](Match.ipynb)\n",
    "- [Match (colocalize) Cruise Track with Datasets](MatchCruise.ipynb)\n",
    "\n",
    "\n",
    "### [2. Data Visualization](Viz.ipynb)\n",
    "- [Histogram Plot](Viz_Histogram.ipynb)\n",
    "- [TimeSeries Plot](Viz_TimeSeries.ipynb)\n",
    "- [Regional Map, Contour Plot, 3D Surface Plot](Viz_RegionalMap.ipynb)\n",
    "- [Section Map, Section Contour](Viz_Section.ipynb)\n",
    "- [Depth Profile](Viz_DepthProfile.ipynb)\n",
    "- [Cruise Track Plot](Viz_CruiseTrack.ipynb)\n",
    "- [Correlation Matrix](Viz_CorrelationMatrix.ipynb)\n",
    "- [Correlation Matrix Along Cruise Track](Viz_CruiseCorrelationMatrix.ipynb)\n"
   ]
  }
 ],
 "metadata": {
  "anaconda-cloud": {},
  "kernelspec": {
   "display_name": "Python 3",
   "language": "python",
   "name": "python3"
  },
  "language_info": {
   "codemirror_mode": {
    "name": "ipython",
    "version": 3
   },
   "file_extension": ".py",
   "mimetype": "text/x-python",
   "name": "python",
   "nbconvert_exporter": "python",
   "pygments_lexer": "ipython3",
   "version": "3.8.3"
  }
 },
 "nbformat": 4,
 "nbformat_minor": 4
}
